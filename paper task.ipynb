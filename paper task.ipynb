{
 "cells": [
  {
   "cell_type": "code",
   "execution_count": 19,
   "id": "e2a2ca18",
   "metadata": {},
   "outputs": [
    {
     "name": "stdout",
     "output_type": "stream",
     "text": [
      "enter the characterx\n",
      "x  this character is consonantt\n"
     ]
    }
   ],
   "source": [
    "#Q4\n",
    "z=str(input(\"enter the character:\"))\n",
    "if (z==\"a\" or z==\"A\" or z==\"e\" or z==\"E\" or z==\"i\"  or z==\"I\" or z==\"o\" or z==\"O\" or z==\"u\" or z==\"U\"):\n",
    "    print(\"this is vowel character :\",z)\n",
    "\n",
    "else:\n",
    "    print(z,\" this character is consonantt\")\n",
    "    "
   ]
  },
  {
   "cell_type": "code",
   "execution_count": null,
   "id": "5ed154e8",
   "metadata": {},
   "outputs": [],
   "source": [
    "#Q1 \n"
   ]
  },
  {
   "cell_type": "code",
   "execution_count": 16,
   "id": "7781bd18",
   "metadata": {},
   "outputs": [
    {
     "name": "stdout",
     "output_type": "stream",
     "text": [
      "[27, 26, 25, 23, 24, 22]\n"
     ]
    }
   ],
   "source": [
    "#Q6\n",
    "\n",
    "numbers = [22,24,23,25,26,27]\n",
    " \n",
    "L = len(numbers)\n",
    "for i in range(int(L/2)):\n",
    "    n = numbers[i]\n",
    "    numbers[i] = numbers[L-i-1]\n",
    "    numbers[L-i-1] = n\n",
    "print(numbers)"
   ]
  },
  {
   "cell_type": "code",
   "execution_count": 21,
   "id": "3f1461cf",
   "metadata": {},
   "outputs": [
    {
     "ename": "SyntaxError",
     "evalue": "'return' outside function (<ipython-input-21-5bb82d61af44>, line 5)",
     "output_type": "error",
     "traceback": [
      "\u001b[1;36m  File \u001b[1;32m\"<ipython-input-21-5bb82d61af44>\"\u001b[1;36m, line \u001b[1;32m5\u001b[0m\n\u001b[1;33m    return t;\u001b[0m\n\u001b[1;37m    ^\u001b[0m\n\u001b[1;31mSyntaxError\u001b[0m\u001b[1;31m:\u001b[0m 'return' outside function\n"
     ]
    }
   ],
   "source": [
    "def cube(g):\n",
    "    t=[]\n",
    "for i in g:\n",
    "    t.append(i**3);\n",
    "    return t;\n",
    "\n"
   ]
  },
  {
   "cell_type": "code",
   "execution_count": null,
   "id": "46a3ccff",
   "metadata": {},
   "outputs": [],
   "source": []
  },
  {
   "cell_type": "code",
   "execution_count": null,
   "id": "e3076491",
   "metadata": {},
   "outputs": [],
   "source": []
  }
 ],
 "metadata": {
  "kernelspec": {
   "display_name": "Python 3",
   "language": "python",
   "name": "python3"
  },
  "language_info": {
   "codemirror_mode": {
    "name": "ipython",
    "version": 3
   },
   "file_extension": ".py",
   "mimetype": "text/x-python",
   "name": "python",
   "nbconvert_exporter": "python",
   "pygments_lexer": "ipython3",
   "version": "3.8.8"
  }
 },
 "nbformat": 4,
 "nbformat_minor": 5
}
